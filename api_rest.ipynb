{
 "cells": [
  {
   "cell_type": "code",
   "execution_count": null,
   "metadata": {},
   "outputs": [],
   "source": [
    "# !conda install requests -y\n",
    "import requests\n",
    "import json\n",
    "api_url = \"https://belabeu-e7061ee8ef78.herokuapp.com/api/sessions/\"\n",
    "api_key = \"125exp125exp\"  # Ваш API ключ\n",
    "\n",
    "session_data = {\n",
    "    \"session_config_name\": \"dsst\",  # Имя конфигурации сессии\n",
    "    \"num_participants\": 4,  # Количество участников\n",
    "    \"room_name\": \"live_demo\"  # Имя комнаты\n",
    "}\n",
    "headers = {\n",
    "    \"Content-Type\": \"application/json\",\n",
    "    \"otree-rest-key\": api_key\n",
    "}\n",
    "\n",
    "response = requests.post(api_url, headers=headers, json=session_data)\n",
    "\n",
    "# Обработка ответа\n",
    "if response.status_code == 200:\n",
    "    print(\"Session created successfully:\", response.json())\n",
    "else:\n",
    "    print(\"Error creating session:\", response.status_code, response.text)\n"
   ]
  },
  {
   "cell_type": "code",
   "execution_count": null,
   "metadata": {},
   "outputs": [],
   "source": []
  },
  {
   "cell_type": "code",
   "execution_count": null,
   "metadata": {},
   "outputs": [
    {
     "name": "stdout",
     "output_type": "stream",
     "text": [
      "Session created successfully: {'code': 'm8str2es', 'session_wide_url': 'https://belabeu-e7061ee8ef78.herokuapp.com/join/nimamove', 'admin_url': 'https://belabeu-e7061ee8ef78.herokuapp.com/SessionStartLinks/m8str2es', 'room_url': 'https://belabeu-e7061ee8ef78.herokuapp.com/room/live_demo'}\n"
     ]
    }
   ],
   "source": []
  }
 ],
 "metadata": {
  "kernelspec": {
   "display_name": "Julen",
   "language": "python",
   "name": "python3"
  },
  "language_info": {
   "codemirror_mode": {
    "name": "ipython",
    "version": 3
   },
   "file_extension": ".py",
   "mimetype": "text/x-python",
   "name": "python",
   "nbconvert_exporter": "python",
   "pygments_lexer": "ipython3",
   "version": "3.9.19"
  }
 },
 "nbformat": 4,
 "nbformat_minor": 2
}
